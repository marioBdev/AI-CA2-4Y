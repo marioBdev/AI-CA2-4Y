{
 "cells": [
  {
   "cell_type": "markdown",
   "id": "e4539b33",
   "metadata": {},
   "source": [
    "<h2 style='color:#851574'>CCT College Dublin Continuous Assessment</h2>"
   ]
  },
  {
   "cell_type": "markdown",
   "id": "e2186abf",
   "metadata": {},
   "source": [
    "---"
   ]
  },
  {
   "cell_type": "markdown",
   "id": "40f784c4",
   "metadata": {},
   "source": [
    "<h3 style=\"color:#155485\">The definition of a Three</h3>"
   ]
  },
  {
   "cell_type": "markdown",
   "id": "294d5a56",
   "metadata": {},
   "source": [
    "<span style=\"color:#155485\">Firstly we need to see define what  is a tree and then a graph and then we can identify  what the differences are between them.<br> \n",
    "A tree is defined as a ‘non-linear data structure that represents the hierarchy’ but also ‘a tree is a collection of nodes that are linked together to form a hierarchy’. Source [javatpoint](https://www.javatpoint.com/tree-vs-graph-data-structure) . \n",
    "Think on like a tree itself which has roots, trunk, branches that are all connected. You’ve got the root node which branches off into other nodes and then onto other nodes.  This quote sums things up well ‘A tree is a data structure that arranges the data similar to a tree. A node is a data item in the tree. The major node is the root, and the other nodes are its children nodes. All these other nodes are arranged into the non-empty sets where each one of them is a subtree. Moreover, there is a parent-child relationship between the nodes. One parent node can have multiple child nodes, and there can only be one parent node for each child node’ . Source: [pediaa.com](https://pediaa.com/what-is-the-difference-between-tree-and-graph/#Graph)<br>\n",
    "There are multiple parts to a tree which are listed below but please this list is not exhaustive however for the purposed of this exercise  I will provide definition to the core parts of the tree along with an description as to what each part is  and also their part in the tree. <br>\n",
    "•\tThe Root Node, which is the top part of the data which appears in the tree, think of the root of a tree, this is foundation of the tree. Also there is only one root per tree and only one path to any node.<br> \n",
    "•\tThe Parent Node, this one step away from the root and it is ‘Any node except the root node has one edge upward to a node called parent’.<br>\n",
    "•\tThe Child Node ‘The node below a given node connected by its edge downward is called its child node.’<br>\n",
    "•\tThe Leaf node The node ‘which does not have any child node’. Basically the path ends there.<br> \n",
    "•\tThe SubTree represents the ‘descendants of a node.’<br>\n",
    "•\tLevel – This represents the ‘generation of a node. If the root node is at level 0, then its next child node is at level 1, its grandchild is at level 2’. Kind of like the family history.<br> \n",
    "•\tPath – this is the path that leads from one node to another<br>\n",
    "Source [tutorialspoint](https://www.tutorialspoint.com/data_structures_algorithms/tree_data_structure.htm#:~:text=Root%20%E2%88%92%20The%20node%20at%20the,is%20called%20its%20child%20node) and Source \t[pediaa.com](https://pediaa.com/what-is-the-difference-between-tree-and-graph/#Graph))</span>"
   ]
  },
  {
   "cell_type": "markdown",
   "id": "4f3adc7f",
   "metadata": {},
   "source": [
    "<h3 style=\"color:#155485\">The definition of a Graph</h3>"
   ]
  },
  {
   "cell_type": "markdown",
   "id": "ee021be3",
   "metadata": {},
   "source": [
    "<span style=\"color:#155485\">A  graph is defined as ‘a data structure that represents a pictorial structure of a set of objects that connects some pairs of objects by links. Usually, graphs help to represent networks’.<br> Source: [pediaa.com](https://pediaa.com/what-is-the-difference-between-tree-and-graph/#Graph) <br><br>\n",
    "A graph is made up from a set of vertices and also of a set of edges which are combined. Source [baeldung.com](https://www.baeldung.com/cs/graph-theory-intro).<br>\n",
    "    This diagram show how the vertices and edges make up a graph.<br>\n",
    "    <img src=\"https://www.baeldung.com/wp-content/uploads/sites/4/2020/07/graphs-set.png\" alt=\"map\" width=\"250\"/>\n",
    "As mentioned above there are vertices – the objects and then the edges connect these. The path represents the sequence of nodes that need to be followed ‘in order to reach the destination node’. For example in the diagram shown below here – ABD shows the path which leads from the vertex A –D. When two nodes connect to each other through an edge, they are  called adjacent nodes. As seen below – A and B are adjacent nodes but also B and D are seen as adjacent nodes.<br><img src=\"https://i1.wp.com/pediaa.com/wp-content/uploads/2019/01/Difference-Between-Tree-and-Graph_Figure-2.png?resize=550%2C500\" alt=\"map\" width=\"200\"/>\n",
    "    \n",
    "There are also a lot of difference types of graphs such as connected, disconnected, and complete. In addition to this they can also be seen as weighted and unweighted graphs and then also directed and undirected graphs.  These examples are shown by the diagrams below which show the various different types of  graphs. \n",
    "    <img src=\"https://www.baeldung.com/wp-content/uploads/sites/4/2020/07/connected-graph.png\" alt=\"map\" width=\"300\"/>\n",
    "    <img src=\"https://www.baeldung.com/wp-content/uploads/sites/4/2020/07/weighted-graph.png\" alt=\"map\" width=\"300\"/>\n",
    "    <img src=\"https://www.baeldung.com/wp-content/uploads/sites/4/2020/07/complete_graph.png\" alt=\"map\" width=\"300\"/></span>\n",
    "\n",
    "                                                     \n",
    "\n",
    "\n",
    "\n"
   ]
  },
  {
   "cell_type": "markdown",
   "id": "f1ef29d8",
   "metadata": {},
   "source": [
    "<h3 style=\"color:#155485\">The core differences between a tree and a graph</h3>"
   ]
  },
  {
   "cell_type": "markdown",
   "id": "57769ffd",
   "metadata": {},
   "source": [
    "<table style='float:left;'><thead><tr>\n",
    "    <th>The basis of Comparison</th><th>Graph</th><th>Tree</th></tr>\n",
    "    </thead>\n",
    "    <tbody><tr><th>Definition</th><th>Graph is a non-linear data structure.&nbsp;</th><th>Tree is a non-linear data structure.</th></tr><tr><th>Structure</th><th>It is a collection of vertices/nodes and edges.</th><th>It is a collection of nodes and edges.</th></tr><tr><th>Edges</th><th>Each node can have any number of edges.</th><th>If there is n nodes then there would be n-1 number of edges</th></tr><tr><th>Types of Edges</th><th>They can be directed or undirected</th><th>They are always directed</th></tr><tr><th>Root node</th><th>There is no unique node called root in graph.</th><th>There is a unique node called root(parent) node in trees.</th></tr><tr><th>Loop Formation</th><th>A cycle can be formed.</th><th>There will not be any cycle.</th></tr><tr><th>Traversal</th><th>For graph traversal, we use Breadth-First Search (BFS), and Depth-First Search (DFS).</th><th>We traverse a tree using in-order, pre-order, or post-order traversal methods.</th></tr><tr><th>Applications</th><th>For finding shortest path in networking graph is used.</th><th>For game trees, decision trees, the tree is used.</th></tr></tbody></table>"
   ]
  },
  {
   "attachments": {},
   "cell_type": "markdown",
   "id": "0f64057e",
   "metadata": {},
   "source": [
    "<span style=\"color:#155485\">Now as we have identified what is a tree and what is a graph, we can now then define what the core differences are between them. When you break is down to very basics its defined as ‘a tree organises data in the form of a tree structure in a hierarchy while a graph organizes data as a network’. Source [pediaa.com](https://pediaa.com/what-is-the-difference-between-tree-and-graph/#Graph),\n",
    "<img src=\"https://techdifferences.com/wp-content/uploads/2018/03/Untitled-1.jpg\" width=\"400\"/><br> Source: [techdifferences.com](https://techdifferences.com/difference-between-tree-and-graph.html![image.png])<br>\n",
    "\n",
    "<img src=\"https://pediaa.com/wp-content/uploads/2019/01/Difference-Between-Tree-and-Graph-Comparison-Summary.jpg\" \n",
    "     width=\"500\"/><br>\n",
    "\n",
    "</span>\n",
    "\n"
   ]
  },
  {
   "cell_type": "markdown",
   "id": "8483281a",
   "metadata": {},
   "source": [
    "<span style=\"color:#155485\">There are lots of differences between a Tree and Graph but I have tried to explain these below as sources. This list can continue but I have isolated nine core differences below:\n",
    "•\t<b>Paths:</b> In a tree there is only the one path between any two vertices. In a graph the paths can be ‘unidirectional and bidirectional paths between the nodes’.<br>\n",
    "    Source: [techdifferences.com](https://techdifferences.com/difference-between-tree-and-graph.html)<br>\n",
    "•\t<b>Connections:</b> A tree must be connected, a graph doesn’t need to be. \n",
    "•\tConnection Rules: There are specific rules for making connections between nodes and edges however in graphs there are no connections rules.<br>\n",
    "•\t<b>Structure:</b> In the tree there are nodes, and there is a defined system by which these nodes appear, root, parent,  child, leaf’s etc. in a graph this node system does not exist. The tree has a distinct hierarchy system, graphs do not. <br>\n",
    "•\t<b>Root:</b> There is a root node in a tree but this does not exist in a tree.<br> \n",
    "•\t<b>Loops:</b> Trees cannot have loops,  self-loops or circuits meanwhile a graph can have  loops and self-loops.<br> \n",
    "•\t<b>Complexity:</b> Because graph are not restricted with loops – they can also be way more complicated than a tree.  So basically trees can be a lot less complex – instead graphs can be very complex (due to loops).<br> \n",
    "•\t<b>Hierarchy:</b> A tree has a hierarchical model structure whereas graph is seen as a network model.<br>\n",
    "•\t<b>Number of edges:</b> Tree always has n-1 edges but in a graph the number of edges really does depend on the graph.<br>\n",
    "I like this definition as think it’s an interesting point ‘All trees are graphs, but all graphs are not trees’.<br>\n",
    "Sources: [thecrazyprogrammer.com](https://www.thecrazyprogrammer.com/2017/08/difference-between-tree-and-graph.html) and [freefeast.info](https://freefeast.info/difference-between/difference-between-trees-and-graphs-trees-vs-graphs/) \n",
    "</span>"
   ]
  },
  {
   "cell_type": "markdown",
   "id": "437f2403",
   "metadata": {},
   "source": [
    "<img src=\"https://raw.githubusercontent.com/marioBdev/AI-CA2-4Y/main/CA2-AI-main-graph.png\" width=\"550\"/>"
   ]
  },
  {
   "cell_type": "code",
   "execution_count": 9,
   "id": "df579635",
   "metadata": {},
   "outputs": [],
   "source": [
    "import heapq\n",
    "\n",
    "\n",
    "def calculate_distances(graph, starting_vertex):\n",
    "    distances = {vertex: float('infinity') for vertex in graph}\n",
    "    distances[starting_vertex] = 0\n",
    "\n",
    "    pq = [(0, starting_vertex)]\n",
    "    while len(pq) > 0:\n",
    "        current_distance, current_vertex = heapq.heappop(pq)\n",
    "\n",
    "        # Nodes can get added to the priority queue multiple times. We only\n",
    "        # process a vertex the first time we remove it from the priority queue.\n",
    "        if current_distance > distances[current_vertex]:\n",
    "            continue\n",
    "\n",
    "        for neighbor, weight in graph[current_vertex].items():\n",
    "            distance = current_distance + weight\n",
    "\n",
    "            # Only consider this new path if it's better than any path we've\n",
    "            # already found.\n",
    "            if distance < distances[neighbor]:\n",
    "                distances[neighbor] = distance\n",
    "                heapq.heappush(pq, (distance, neighbor))\n",
    "\n",
    "    return distances"
   ]
  },
  {
   "cell_type": "code",
   "execution_count": 17,
   "id": "ee09415f",
   "metadata": {},
   "outputs": [],
   "source": [
    "example_graph = {\n",
    "    'A': {'B': 5, 'C': 3},\n",
    "    'B': {'E': 3, 'C': 2, 'G': 1},\n",
    "    'C': {'E': 7, 'D': 7},\n",
    "    'D': {'F': 6, 'A': 2},\n",
    "    'E': {'F': 1, 'D': 2},\n",
    "    'G': {'E': 1},\n",
    "    'F': {'F': 0},\n",
    "}"
   ]
  },
  {
   "cell_type": "code",
   "execution_count": 18,
   "id": "00586815",
   "metadata": {},
   "outputs": [
    {
     "name": "stdout",
     "output_type": "stream",
     "text": [
      "{'A': 0, 'B': 5, 'C': 3, 'D': 9, 'E': 7, 'G': 6, 'F': 8}\n"
     ]
    }
   ],
   "source": [
    "print(calculate_distances(example_graph, 'A'))"
   ]
  },
  {
   "cell_type": "markdown",
   "id": "a18010ed",
   "metadata": {},
   "source": [
    "<h3 style=\"color:#155485\">Decision to use Dijkstras Algorithm</h3>"
   ]
  },
  {
   "cell_type": "markdown",
   "id": "20a453e1",
   "metadata": {},
   "source": [
    "<span style=\"color:#155485\">I have decide using Dijkstra's algorithm because the normalization is not only required to find the optimal route but also the system utilizes the priority level and Dijkstra algorithm which is the mostly method for the problem. Another reason is about the graph size as I think is suitable for Dijktra implementation.\n",
    "</span>"
   ]
  }
 ],
 "metadata": {
  "kernelspec": {
   "display_name": "Python 3 (ipykernel)",
   "language": "python",
   "name": "python3"
  },
  "language_info": {
   "codemirror_mode": {
    "name": "ipython",
    "version": 3
   },
   "file_extension": ".py",
   "mimetype": "text/x-python",
   "name": "python",
   "nbconvert_exporter": "python",
   "pygments_lexer": "ipython3",
   "version": "3.9.12"
  }
 },
 "nbformat": 4,
 "nbformat_minor": 5
}
