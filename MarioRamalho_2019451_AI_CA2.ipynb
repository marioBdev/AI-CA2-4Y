{
 "cells": [
  {
   "cell_type": "markdown",
   "id": "e4539b33",
   "metadata": {},
   "source": [
    "<h2 style='color:#851574'>CCT College Dublin Continuous Assessment</h2>"
   ]
  },
  {
   "cell_type": "markdown",
   "id": "f4cf338f",
   "metadata": {},
   "source": [
    "<span style=\"color:#155485\">Explain what you plan on doing with the data. E.g., Why did you choose the specific visualizations? Why did you choose specific observations for a visualization, how did you Engineer your Data? etc This must be detailed in the Mark-up of the Jupyter Notebook and include the rationale for your choice.</span>"
   ]
  },
  {
   "cell_type": "code",
   "execution_count": null,
   "id": "116fb2b6",
   "metadata": {},
   "outputs": [],
   "source": []
  }
 ],
 "metadata": {
  "kernelspec": {
   "display_name": "Python 3 (ipykernel)",
   "language": "python",
   "name": "python3"
  },
  "language_info": {
   "codemirror_mode": {
    "name": "ipython",
    "version": 3
   },
   "file_extension": ".py",
   "mimetype": "text/x-python",
   "name": "python",
   "nbconvert_exporter": "python",
   "pygments_lexer": "ipython3",
   "version": "3.9.12"
  }
 },
 "nbformat": 4,
 "nbformat_minor": 5
}
